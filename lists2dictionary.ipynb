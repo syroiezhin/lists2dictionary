{
 "cells": [
  {
   "cell_type": "markdown",
   "metadata": {},
   "source": [
    "        __  ______ _       ________  __        _ \n",
    "       / / / / __ \\ |     / / __ \\ \\/ /  _    | |\n",
    "      / /_/ / / / / | /| / / / / /\\  /  (_)   / /\n",
    "     / __  / /_/ /| |/ |/ / /_/ / / /  _     / / \n",
    "    /_/ /_/\\____/ |__/|__/_____/ /_/  (_)  _/_/  \n",
    "                                          /_/    \n",
    "                                                      \n",
    "               5168 7450 1701 5535     \n",
    "\n",
    "                 author = Valerij Syroiezhin\n",
    "               telegram = @NEU3RON\n",
    "                  email = v.syroiezhin@gmail.com\n",
    "                    url = https://github.com/syroiezhin"
   ]
  },
  {
   "cell_type": "code",
   "execution_count": 170,
   "metadata": {},
   "outputs": [],
   "source": [
    "A = [1,2,3,4,5,6,7,8,9,9]; B = ['a','b','c','c','a','b','b','a','c','b']\n",
    "result = {}; result2 = {}; result3 = {}; result4 = {}; result5 = {}\n",
    "#------------------#\n",
    "# my best solution #\n",
    "#------------------#\n",
    "for i in range(len(B)): result[B[i]] = A[i] if result.get(B[i])==None else result[B[i]] + A[i]"
   ]
  },
  {
   "cell_type": "code",
   "execution_count": 171,
   "metadata": {},
   "outputs": [],
   "source": [
    "#===================================#\n",
    "# even a homunculus will understand #\n",
    "#===================================#\n",
    "for i in range(len(B)): result2[B[i]] = 0\n",
    "for i in range(len(B)): result2[B[i]] = result2[B[i]] + A[i]"
   ]
  },
  {
   "cell_type": "code",
   "execution_count": 172,
   "metadata": {},
   "outputs": [],
   "source": [
    "#≡≡≡≡≡≡≡≡≡≡≡≡≡≡≡≡≡≡≡≡≡≡≡≡≡≡≡≡≡≡≡≡≡≡≡≡≡≡≡≡≡≡≡≡≡≡≡≡≡≡≡≡≡≡≡≡≡≡≡≡#\n",
    "# the solution is very close to the best, but in three lines #\n",
    "#≡≡≡≡≡≡≡≡≡≡≡≡≡≡≡≡≡≡≡≡≡≡≡≡≡≡≡≡≡≡≡≡≡≡≡≡≡≡≡≡≡≡≡≡≡≡≡≡≡≡≡≡≡≡≡≡≡≡≡≡#\n",
    "for i in range(len(B)):\n",
    "    if B[i] in result3: result3[B[i]] = result3[B[i]] + A[i]\n",
    "    else: result3[B[i]] = A[i]"
   ]
  },
  {
   "cell_type": "code",
   "execution_count": 173,
   "metadata": {},
   "outputs": [],
   "source": [
    "#########################################\n",
    "# you need an above average iq for this #\n",
    "#########################################\n",
    "for i in range(len(B)): \n",
    "    if B[i] not in result4: result4[B[i]] = 0\n",
    "    result4[B[i]] = result4[B[i]] + A[i]"
   ]
  },
  {
   "cell_type": "code",
   "execution_count": 174,
   "metadata": {},
   "outputs": [],
   "source": [
    "#✭✭✭✭✭✭✭✭✭✭✭✭✭✭✭✭✭✭✭✭✭✭✭✭✭✭✭✭✭✭#\n",
    "# So that the humanist does not understand #\n",
    "#✭✭✭✭✭✭✭✭✭✭✭✭✭✭✭✭✭✭✭✭✭✭✭✭✭✭✭✭✭✭#\n",
    "\n",
    "for i in range(len(B)):\n",
    "    if (key:=B[i]) not in result5: \n",
    "        index = [x[0] for x in enumerate(B) if x[1] == key]\n",
    "        for i in range(len(index)): result5[key] = A[index[i]] if result5.get(key)==None else result5[key] + A[index[i]]"
   ]
  },
  {
   "cell_type": "code",
   "execution_count": 175,
   "metadata": {},
   "outputs": [
    {
     "name": "stdout",
     "output_type": "stream",
     "text": [
      "{'a': 14, 'b': 24, 'c': 16} ⇌ {'a': 14, 'b': 24, 'c': 16} ⇌ {'a': 14, 'b': 24, 'c': 16} ⇌ {'a': 14, 'b': 24, 'c': 16} ⇌ {'a': 14, 'b': 24, 'c': 16}\n"
     ]
    }
   ],
   "source": [
    "print(result, \"⇌\", result2, \"⇌\", result3, \"⇌\", result4, \"⇌\", result5)"
   ]
  }
 ],
 "metadata": {
  "kernelspec": {
   "display_name": "Python 3.10.4 ('conda')",
   "language": "python",
   "name": "python3"
  },
  "language_info": {
   "codemirror_mode": {
    "name": "ipython",
    "version": 3
   },
   "file_extension": ".py",
   "mimetype": "text/x-python",
   "name": "python",
   "nbconvert_exporter": "python",
   "pygments_lexer": "ipython3",
   "version": "3.10.4"
  },
  "orig_nbformat": 4,
  "vscode": {
   "interpreter": {
    "hash": "befc73cd20c9f47f6f1d1f5702fb73f71fe745ae52fe81d57d15cca348601a15"
   }
  }
 },
 "nbformat": 4,
 "nbformat_minor": 2
}
