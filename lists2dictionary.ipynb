{
 "cells": [
  {
   "cell_type": "markdown",
   "metadata": {},
   "source": [
    "        __  ______ _       ________  __        _ \n",
    "       / / / / __ \\ |     / / __ \\ \\/ /  _    | |\n",
    "      / /_/ / / / / | /| / / / / /\\  /  (_)   / /\n",
    "     / __  / /_/ /| |/ |/ / /_/ / / /  _     / / \n",
    "    /_/ /_/\\____/ |__/|__/_____/ /_/  (_)  _/_/  \n",
    "                                          /_/    \n",
    "                                                      \n",
    "               5168 7450 1701 5535     \n",
    "\n",
    "                 author = Valerij Syroiezhin\n",
    "               telegram = @NEU3RON\n",
    "                  email = v.syroiezhin@gmail.com\n",
    "                    url = https://github.com/syroiezhin"
   ]
  },
  {
   "cell_type": "code",
   "execution_count": 7,
   "metadata": {},
   "outputs": [],
   "source": [
    "A = [1,2,3,4,5,6,7,8,9,9]; B = ['a','b','c','c','a','b','b','a','c','b']\n",
    "result = {}; result2 = {}; result3 = {}; result4 = {}; result5 = {}\n",
    "#------------------#\n",
    "# my best solution #\n",
    "#------------------#\n",
    "for i in range(len(B)): result[B[i]] = A[i] if result.get(B[i])==None else result[B[i]] + A[i]"
   ]
  },
  {
   "cell_type": "code",
   "execution_count": 8,
   "metadata": {},
   "outputs": [],
   "source": [
    "#===================================#\n",
    "# even a homunculus will understand #\n",
    "#===================================#\n",
    "for i in range(len(B)): result2[B[i]] = 0\n",
    "for i in range(len(B)): result2[B[i]] = result2[B[i]] + A[i]"
   ]
  },
  {
   "cell_type": "code",
   "execution_count": 9,
   "metadata": {},
   "outputs": [],
   "source": [
    "#≡≡≡≡≡≡≡≡≡≡≡≡≡≡≡≡≡≡≡≡≡≡≡≡≡≡≡≡≡≡≡≡≡≡≡≡≡≡≡≡≡≡≡≡≡≡≡≡≡≡≡≡≡≡≡≡≡≡≡≡#\n",
    "# the solution is very close to the best, but in three lines #\n",
    "#≡≡≡≡≡≡≡≡≡≡≡≡≡≡≡≡≡≡≡≡≡≡≡≡≡≡≡≡≡≡≡≡≡≡≡≡≡≡≡≡≡≡≡≡≡≡≡≡≡≡≡≡≡≡≡≡≡≡≡≡#\n",
    "for i in range(len(B)):\n",
    "    if B[i] in result3: result3[B[i]] = result3[B[i]] + A[i]\n",
    "    else: result3[B[i]] = A[i]"
   ]
  },
  {
   "cell_type": "code",
   "execution_count": 10,
   "metadata": {},
   "outputs": [],
   "source": [
    "#########################################\n",
    "# you need an above average iq for this #\n",
    "#########################################\n",
    "for i in range(len(B)): \n",
    "    if B[i] not in result4: result4[B[i]] = 0\n",
    "    result4[B[i]] = result4[B[i]] + A[i]"
   ]
  },
  {
   "cell_type": "code",
   "execution_count": 11,
   "metadata": {},
   "outputs": [],
   "source": [
    "#✭✭✭✭✭✭✭✭✭✭✭✭✭✭✭✭✭✭✭✭✭✭✭✭✭✭✭✭✭✭#\n",
    "# so that the humanist does not understand #\n",
    "#✭✭✭✭✭✭✭✭✭✭✭✭✭✭✭✭✭✭✭✭✭✭✭✭✭✭✭✭✭✭#\n",
    "\n",
    "for i in range(len(B)):\n",
    "    if (key:=B[i]) not in result5: \n",
    "        index = [x[0] for x in enumerate(B) if x[1] == key]\n",
    "        for i in range(len(index)): result5[key] = A[index[i]] if result5.get(key)==None else result5[key] + A[index[i]]"
   ]
  },
  {
   "cell_type": "code",
   "execution_count": 12,
   "metadata": {},
   "outputs": [
    {
     "name": "stdout",
     "output_type": "stream",
     "text": [
      "{'a': 14, 'b': 24, 'c': 16} ⇌ {'a': 14, 'b': 24, 'c': 16} ⇌ {'a': 14, 'b': 24, 'c': 16} ⇌ {'a': 14, 'b': 24, 'c': 16} ⇌ {'a': 14, 'b': 24, 'c': 16}\n"
     ]
    }
   ],
   "source": [
    "print(result, \"⇌\", result2, \"⇌\", result3, \"⇌\", result4, \"⇌\", result5)"
   ]
  },
  {
   "cell_type": "markdown",
   "metadata": {},
   "source": [
    "# Dictionary with lists\n",
    "#### A very tricky way for a fragile mind to obtain a dictionary of dictionaries from two dictionaries, one of which, as we saw earlier, has repeating values. \n",
    "#### All of the above methods were invented by me. I don’t know if anyone has solved this or a similar problem in the same way, \n",
    "#### but I solved it myself, and I am very pleased with my result!"
   ]
  },
  {
   "cell_type": "code",
   "execution_count": 13,
   "metadata": {},
   "outputs": [
    {
     "name": "stdout",
     "output_type": "stream",
     "text": [
      "[1, 5, 8]\n",
      "[2, 6, 7, 9]\n",
      "[3, 4, 9]\n"
     ]
    }
   ],
   "source": [
    "A = [1,2,3,4,5,6,7,8,9,9]\n",
    "B = ['a','b','c','c','a','b','b','a','c','b']\n",
    "#--------------------#\n",
    "# example of my idea #\n",
    "#--------------------#\n",
    "print( [ A[a] for a in range(len(A)) if B[a] == B[0] ] )\n",
    "print( [ A[a] for a in range(len(A)) if B[a] == B[1] ] )\n",
    "print( [ A[a] for a in range(len(A)) if B[a] == B[2] ] )"
   ]
  },
  {
   "cell_type": "code",
   "execution_count": 14,
   "metadata": {},
   "outputs": [
    {
     "data": {
      "text/plain": [
       "[[1, 5, 8],\n",
       " [2, 6, 7, 9],\n",
       " [3, 4, 9],\n",
       " [3, 4, 9],\n",
       " [1, 5, 8],\n",
       " [2, 6, 7, 9],\n",
       " [2, 6, 7, 9],\n",
       " [1, 5, 8],\n",
       " [3, 4, 9],\n",
       " [2, 6, 7, 9]]"
      ]
     },
     "execution_count": 14,
     "metadata": {},
     "output_type": "execute_result"
    }
   ],
   "source": [
    "#====================================#\n",
    "# in fact, things don't look so rosy #\n",
    "#====================================#\n",
    "M = [ [ A[a] for a in range(len(A)) if B[a] == B[b] ] for b in range(len(B)) ]\n",
    "M"
   ]
  },
  {
   "cell_type": "code",
   "execution_count": 15,
   "metadata": {},
   "outputs": [
    {
     "data": {
      "text/plain": [
       "[[1, 5, 8], [2, 6, 7, 9], [3, 4, 9]]"
      ]
     },
     "execution_count": 15,
     "metadata": {},
     "output_type": "execute_result"
    }
   ],
   "source": [
    "#≡≡≡≡≡≡≡≡≡≡≡≡≡≡≡≡≡≡≡≡≡≡≡≡≡≡≡≡≡≡≡≡≡≡≡≡#\n",
    "# thanks to this I remove duplicates #\n",
    "#≡≡≡≡≡≡≡≡≡≡≡≡≡≡≡≡≡≡≡≡≡≡≡≡≡≡≡≡≡≡≡≡≡≡≡≡#\n",
    "remove_duplicates = [ i for n, i in enumerate( M ) if i not in M[:n] ]\n",
    "remove_duplicates"
   ]
  },
  {
   "cell_type": "code",
   "execution_count": 16,
   "metadata": {},
   "outputs": [
    {
     "data": {
      "text/plain": [
       "{'a': [1, 5, 8], 'b': [2, 6, 7, 9], 'c': [3, 4, 9]}"
      ]
     },
     "execution_count": 16,
     "metadata": {},
     "output_type": "execute_result"
    }
   ],
   "source": [
    "################################################\n",
    "# it remains to create a dictionary with lists #\n",
    "################################################\n",
    "dict(zip( B, remove_duplicates ))"
   ]
  },
  {
   "cell_type": "code",
   "execution_count": 17,
   "metadata": {},
   "outputs": [
    {
     "data": {
      "text/plain": [
       "{'a': [1, 5, 8], 'b': [2, 6, 7, 9], 'c': [3, 4, 9]}"
      ]
     },
     "execution_count": 17,
     "metadata": {},
     "output_type": "execute_result"
    }
   ],
   "source": [
    "#✭✭✭✭✭✭✭✭✭✭✭✭✭✭✭✭✭✭✭✭✭✭✭✭✭✭✭✭✭✭#\n",
    "#      the most amazing thing is that      #\n",
    "#    it can all be written in one line     #\n",
    "#✭✭✭✭✭✭✭✭✭✭✭✭✭✭✭✭✭✭✭✭✭✭✭✭✭✭✭✭✭✭#\n",
    "dict( zip( B, [ i for n, i in enumerate([ [ A[a] for a in range(len(A)) if B[a] == B[b] ] for b in range(len(B)) ]) if i not in [ [ A[a] for a in range(len(A)) if B[a] == B[b] ] for b in range(len(B)) ][:n] ] ) )"
   ]
  },
  {
   "cell_type": "markdown",
   "metadata": {},
   "source": [
    "# 👨🏻‍💻 My friend, who suggested this task for thinking, later sent his solution, \n",
    "# but whether he decided it himself, he did not report."
   ]
  },
  {
   "cell_type": "code",
   "execution_count": 18,
   "metadata": {},
   "outputs": [
    {
     "data": {
      "text/plain": [
       "{'c': 0, 'b': 0, 'a': 0}"
      ]
     },
     "execution_count": 18,
     "metadata": {},
     "output_type": "execute_result"
    }
   ],
   "source": [
    "A = [1,2,3,4,5,6,7,8,9,9]\n",
    "B = ['a','b','c','c','a','b','b','a','c','b']\n",
    "#------------------------------#\n",
    "# empty dictionary of all keys #\n",
    "#------------------------------#\n",
    "d = {i:0 for i in set(B)}\n",
    "d"
   ]
  },
  {
   "cell_type": "markdown",
   "metadata": {},
   "source": [
    "### Unfortunately, it is not possible to solve in one line, but it seems to be the shortest solution."
   ]
  },
  {
   "cell_type": "code",
   "execution_count": 19,
   "metadata": {},
   "outputs": [
    {
     "data": {
      "text/plain": [
       "{'c': 16, 'b': 24, 'a': 14}"
      ]
     },
     "execution_count": 19,
     "metadata": {},
     "output_type": "execute_result"
    }
   ],
   "source": [
    "#=======================================#\n",
    "# insert all values into the dictionary #\n",
    "#=======================================#\n",
    "for i,j in zip(A,B): d[j]+=i\n",
    "d"
   ]
  },
  {
   "cell_type": "markdown",
   "metadata": {},
   "source": [
    "# 🧞‍♂️ Online store, check the availability or absence of goods"
   ]
  },
  {
   "cell_type": "code",
   "execution_count": 20,
   "metadata": {},
   "outputs": [
    {
     "data": {
      "text/plain": [
       "{2: 'есть в наличии',\n",
       " 5: 'нет в наличии',\n",
       " 8: 'нет в наличии',\n",
       " 10: 'есть в наличии',\n",
       " 11: 'нет в наличии'}"
      ]
     },
     "execution_count": 20,
     "metadata": {},
     "output_type": "execute_result"
    }
   ],
   "source": [
    "products = [-1,0,2,3,7,9,10]\n",
    "basket = [2,5,8,10,11]\n",
    "{ content:dict.fromkeys(products,'есть в наличии').get(content,'нет в наличии') for content in basket }"
   ]
  },
  {
   "cell_type": "markdown",
   "metadata": {},
   "source": [
    "# 🧙🏼‍♂️ Operators magic"
   ]
  },
  {
   "cell_type": "code",
   "execution_count": 21,
   "metadata": {},
   "outputs": [
    {
     "name": "stdout",
     "output_type": "stream",
     "text": [
      " нет в наличии {8, 11, 5} \n",
      " есть в наличии {2, 10}\n"
     ]
    }
   ],
   "source": [
    "products = [-1,0,2,3,7,9,10]\n",
    "basket = [2,5,8,10,11]\n",
    "\n",
    "print(\n",
    "' нет в наличии',    set(basket)-set(products),\n",
    "'\\n есть в наличии', (set(basket)-set(products))^set(basket)\n",
    ")"
   ]
  },
  {
   "cell_type": "markdown",
   "metadata": {},
   "source": [
    "### 🧩 Find out what combination of numbers in the sum is equal to the number from the list"
   ]
  },
  {
   "cell_type": "code",
   "execution_count": 22,
   "metadata": {},
   "outputs": [
    {
     "data": {
      "text/plain": [
       "[(-1, (-1, 0)),\n",
       " (2, (-1, 3)),\n",
       " (9, (-1, 10)),\n",
       " (2, (0, 2)),\n",
       " (3, (0, 3)),\n",
       " (7, (0, 7)),\n",
       " (9, (0, 9)),\n",
       " (10, (0, 10)),\n",
       " (9, (2, 7)),\n",
       " (10, (3, 7))]"
      ]
     },
     "execution_count": 22,
     "metadata": {},
     "output_type": "execute_result"
    }
   ],
   "source": [
    "array = [-1,0,2,3,7,9,10]\n",
    "[ (k1+k2,(k1,k2)) for id,k1 in enumerate(array) for k2 in array[id+1:] if k1+k2 in array ]"
   ]
  },
  {
   "cell_type": "code",
   "execution_count": 23,
   "metadata": {},
   "outputs": [
    {
     "data": {
      "text/plain": [
       "[(-1, (-1, 0)),\n",
       " (2, (-1, 3)),\n",
       " (9, (-1, 10)),\n",
       " (2, (0, 2)),\n",
       " (3, (0, 3)),\n",
       " (7, (0, 7)),\n",
       " (9, (0, 9)),\n",
       " (10, (0, 10)),\n",
       " (9, (2, 7)),\n",
       " (10, (3, 7))]"
      ]
     },
     "execution_count": 23,
     "metadata": {},
     "output_type": "execute_result"
    }
   ],
   "source": [
    "from itertools import combinations\n",
    "array = [-1,0,2,3,7,9,10]\n",
    "[ (sum(comb),comb) for comb in combinations(array,2) if sum(comb) in array ]"
   ]
  },
  {
   "cell_type": "markdown",
   "metadata": {},
   "source": [
    "# 🧑🏻‍💼 Group by dictionary"
   ]
  },
  {
   "cell_type": "code",
   "execution_count": 24,
   "metadata": {},
   "outputs": [
    {
     "data": {
      "text/plain": [
       "{-1: [(-1, 0)],\n",
       " 2: [(-1, 3), (0, 2)],\n",
       " 9: [(-1, 10), (0, 9), (2, 7)],\n",
       " 3: [(0, 3)],\n",
       " 7: [(0, 7)],\n",
       " 10: [(0, 10), (3, 7)]}"
      ]
     },
     "execution_count": 24,
     "metadata": {},
     "output_type": "execute_result"
    }
   ],
   "source": [
    "from collections import defaultdict\n",
    "array = [(-1, (-1, 0)), (2, (-1, 3)), (9, (-1, 10)), (2, (0, 2)), (3, (0, 3)), (7, (0, 7)), (9, (0, 9)), (10, (0, 10)), (9, (2, 7)), (10, (3, 7))]\n",
    "c = defaultdict(list)\n",
    "[ c[a].extend([b]) for a,b in array ]\n",
    "dict(c.items())"
   ]
  },
  {
   "cell_type": "markdown",
   "metadata": {},
   "source": [
    "# 🕺🏻 My simple solution to a non-standard problem 🔥"
   ]
  },
  {
   "cell_type": "code",
   "execution_count": 25,
   "metadata": {},
   "outputs": [
    {
     "data": {
      "text/plain": [
       "{1: ['a', 'c'], 2: ['b', 'e'], 3: ['d', 'f']}"
      ]
     },
     "execution_count": 25,
     "metadata": {},
     "output_type": "execute_result"
    }
   ],
   "source": [
    "list_tuples = [ (1,'a'),(2,'b'),(1,'c'),(3,'d'),(2,'e'),(3,'f') ]\n",
    "d = dict()\n",
    "\n",
    "for k,v in list_tuples: \n",
    "    try: d[k].append(v)\n",
    "    except KeyError: d[k] = [v]\n",
    "\n",
    "d"
   ]
  },
  {
   "cell_type": "markdown",
   "metadata": {},
   "source": [
    "### 🗑 Deleting at the beginning of a string a sequence of identical characters"
   ]
  },
  {
   "cell_type": "code",
   "execution_count": 26,
   "metadata": {},
   "outputs": [
    {
     "name": "stdout",
     "output_type": "stream",
     "text": [
      "000123456789000 -> 123456789000\n"
     ]
    }
   ],
   "source": [
    "def delnullchar(fornum:str, ifitis:str='0')->str: \n",
    "    for enum in range(len(fornum),-1,-1):\n",
    "        if fornum[:enum]==ifitis*(enum):\n",
    "            return fornum[enum:]\n",
    "\n",
    "print('{} -> {}'.format(numb:='000123456789000',delnullchar(numb)))"
   ]
  },
  {
   "cell_type": "markdown",
   "metadata": {},
   "source": [
    "# ➕ Add zero before index and after sentence"
   ]
  },
  {
   "cell_type": "code",
   "execution_count": 27,
   "metadata": {},
   "outputs": [
    {
     "data": {
      "text/plain": [
       "'0123456789'"
      ]
     },
     "execution_count": 27,
     "metadata": {},
     "output_type": "execute_result"
    }
   ],
   "source": [
    "sentence = '123456789'\n",
    "sentence.zfill(10)"
   ]
  },
  {
   "cell_type": "code",
   "execution_count": 28,
   "metadata": {},
   "outputs": [
    {
     "data": {
      "text/plain": [
       "'9876543210'"
      ]
     },
     "execution_count": 28,
     "metadata": {},
     "output_type": "execute_result"
    }
   ],
   "source": [
    "sentence = '987654321'\n",
    "sentence.ljust(10,'0')"
   ]
  },
  {
   "cell_type": "markdown",
   "metadata": {},
   "source": [
    "### 🫵🏼 Search for the largest number in a string of numbers written through a space"
   ]
  },
  {
   "cell_type": "code",
   "execution_count": 29,
   "metadata": {},
   "outputs": [
    {
     "data": {
      "text/plain": [
       "3246435"
      ]
     },
     "execution_count": 29,
     "metadata": {},
     "output_type": "execute_result"
    }
   ],
   "source": [
    "lst = '3246435 23535 32456 534636 2463'\n",
    "int_list = list(map(int, lst.split(' ')))\n",
    "max(int_list)"
   ]
  }
 ],
 "metadata": {
  "kernelspec": {
   "display_name": "Python 3.10.4 ('conda')",
   "language": "python",
   "name": "python3"
  },
  "language_info": {
   "codemirror_mode": {
    "name": "ipython",
    "version": 3
   },
   "file_extension": ".py",
   "mimetype": "text/x-python",
   "name": "python",
   "nbconvert_exporter": "python",
   "pygments_lexer": "ipython3",
   "version": "3.8.8"
  },
  "orig_nbformat": 4,
  "vscode": {
   "interpreter": {
    "hash": "befc73cd20c9f47f6f1d1f5702fb73f71fe745ae52fe81d57d15cca348601a15"
   }
  }
 },
 "nbformat": 4,
 "nbformat_minor": 2
}
